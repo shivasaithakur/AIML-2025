{
  "nbformat": 4,
  "nbformat_minor": 0,
  "metadata": {
    "colab": {
      "provenance": [],
      "include_colab_link": true
    },
    "kernelspec": {
      "name": "python3",
      "display_name": "Python 3"
    },
    "language_info": {
      "name": "python"
    }
  },
  "cells": [
    {
      "cell_type": "markdown",
      "metadata": {
        "id": "view-in-github",
        "colab_type": "text"
      },
      "source": [
        "<a href=\"https://colab.research.google.com/github/shivasaithakur/AIML-2025/blob/main/AIML_LAB_03_(20_8).ipynb\" target=\"_parent\"><img src=\"https://colab.research.google.com/assets/colab-badge.svg\" alt=\"Open In Colab\"/></a>"
      ]
    },
    {
      "cell_type": "code",
      "execution_count": null,
      "metadata": {
        "id": "Jyz2NdQN93Ex"
      },
      "outputs": [],
      "source": [
        "graph1={\n",
        "    'A':['G','C','D','B'],\n",
        "    'B':['A'],\n",
        "    'C':['A','D','F'],\n",
        "    'D':['A','C','E','H','G'],\n",
        "    'E':['H','D','F'],\n",
        "    'F':['C','E'],\n",
        "    'G':['A','D','H'],\n",
        "    'H':['D','E','G'],\n",
        "}"
      ]
    },
    {
      "cell_type": "code",
      "source": [
        "print(\"The adjacent List representing the graph is:\")\n",
        "print(graph1)"
      ],
      "metadata": {
        "colab": {
          "base_uri": "https://localhost:8080/"
        },
        "id": "ctxow2GY-5m5",
        "outputId": "2bd8e6a0-412e-4ee4-95d7-d2f29e024ab6"
      },
      "execution_count": null,
      "outputs": [
        {
          "output_type": "stream",
          "name": "stdout",
          "text": [
            "The adjacent List representing the graph is:\n",
            "{'A': ['G', 'C', 'D', 'B'], 'B': ['A'], 'C': ['A', 'D', 'F'], 'D': ['A', 'C', 'E', 'H', 'G'], 'E': ['H', 'D', 'F'], 'F': ['C', 'E'], 'G': ['A', 'D', 'H'], 'H': ['D', 'E', 'G']}\n"
          ]
        }
      ]
    },
    {
      "cell_type": "code",
      "source": [
        "def dfs(graph,node,visited):\n",
        "  if node not in visited:\n",
        "    visited.append(node)\n",
        "    for k in graph[node]:\n",
        "      dfs(graph,k,visited)\n",
        "  return visited\n",
        "\n",
        "visited=dfs(graph1,'B',[])\n",
        "print(\"The Depth First Search Traversal is:\")\n",
        "print(visited)"
      ],
      "metadata": {
        "colab": {
          "base_uri": "https://localhost:8080/"
        },
        "id": "kaSJ0KfMAf8e",
        "outputId": "cd532ae1-30c7-4af4-9729-36574ba7b352"
      },
      "execution_count": null,
      "outputs": [
        {
          "output_type": "stream",
          "name": "stdout",
          "text": [
            "The Depth First Search Traversal is:\n",
            "['B', 'A', 'G', 'D', 'C', 'F', 'E', 'H']\n"
          ]
        }
      ]
    },
    {
      "cell_type": "code",
      "source": [
        "import numpy as np\n",
        "from queue import Queue\n",
        "import heapq"
      ],
      "metadata": {
        "id": "zTdx7BsYB1NG"
      },
      "execution_count": null,
      "outputs": []
    },
    {
      "cell_type": "code",
      "source": [
        "def bestFirstSearch(initial_state,goal_state,evaluation_function):\n",
        "  priority_queue=[]\n",
        "  heapq.heappush(priority_queue,(evaluation_function(initial_state),initial_state))\n",
        "\n",
        "  while priority_queue:\n",
        "    current_state=heapq.heappop(priority_queue)[1]\n",
        "\n",
        "    if current_state==goal_state:\n",
        "      return current_state\n",
        "\n",
        "    next_states=generateNextStates[current_state]\n",
        "    for next_state in next_states:\n",
        "      priority_value=evaluation_function(next_state)\n",
        "      heapq.heappush(priority_queue,(priority_value,next_state))\n",
        "\n",
        "  return \"No solution found\"\n",
        "\n",
        "  def evaluationFunction(state):\n",
        "    return abs(state[0]+goal_state[0])+abs(state[1]-goal_state[1])\n",
        "\n",
        "  def generateNextStates(state):\n",
        "    x,y=state\n",
        "    next_states=[(x+1,y),(x-1,y),(x,y+1),(x,y-1)]\n",
        "    return [s for s in next_states if 0<=s[0]<4 and 0<=s[1]<4]\n",
        "\n",
        "  initial_state=(0,0)\n",
        "  goal_state=(4,4)\n",
        "\n",
        "  result=bestFirstSearch(initial_state,goal_state,evaluationFunction)\n",
        "  print(\"The Best First Search Traversal is:\")\n",
        "  print(result)"
      ],
      "metadata": {
        "id": "4as5bBhJJhGW"
      },
      "execution_count": null,
      "outputs": []
    },
    {
      "cell_type": "code",
      "source": [],
      "metadata": {
        "id": "PlECXBdfJ0hq"
      },
      "execution_count": null,
      "outputs": []
    }
  ]
}